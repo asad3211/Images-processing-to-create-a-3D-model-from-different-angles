{
  "nbformat": 4,
  "nbformat_minor": 0,
  "metadata": {
    "colab": {
      "provenance": []
    },
    "kernelspec": {
      "name": "python3",
      "display_name": "Python 3"
    },
    "language_info": {
      "name": "python"
    },
    "accelerator": "GPU",
    "gpuClass": "standard"
  },
  "cells": [
    {
      "cell_type": "markdown",
      "source": [
        "# 3D Face recognition\n",
        "\n",
        "This work is for face recognition / verification for 3D facial images. The file utilizes (at least on the current setting) LFW data base, which celebratires images database, we used it because we can get multiple images for the sane subject. The final Pipeline is as follows: \n",
        "\n",
        "Input raw image >> Face detection >> 3D reconstruction (3D rendered image) >> recognition / verification\n",
        "\n",
        "The steps will be explained accordingly"
      ],
      "metadata": {
        "id": "bSpIhot9qLCY"
      }
    },
    {
      "cell_type": "markdown",
      "source": [
        "## First part\n",
        "### Dataset preparation\n",
        "\n",
        "This part will mainly focus on downloading the database and filter it out. The filtration is done by the number of images in the each folder, currently, minimum of 7 images were selected, 3 images will be used for testing and the rest for reconstruction and training."
      ],
      "metadata": {
        "id": "3Fsro1U1rVkL"
      }
    },
    {
      "cell_type": "code",
      "source": [
        "# Downloading and extracting database\n",
        "import os\n",
        "\n",
        "dataset_dir = '/content/datasets/lfw'\n",
        "if not os.path.exists(dataset_dir):\n",
        "    os.makedirs(dataset_dir)\n",
        "\n",
        "os.chdir('/content/datasets/lfw')\n",
        "\n",
        "!pwd\n",
        "!wget http://vis-www.cs.umass.edu/lfw/lfw-deepfunneled.tgz\n",
        "!tar zxvf lfw-deepfunneled.tgz"
      ],
      "metadata": {
        "id": "8yGa1zvivitG"
      },
      "execution_count": null,
      "outputs": []
    },
    {
      "cell_type": "code",
      "source": [
        "# Filtering the database based on the total number of  images in each subject  \n",
        "!pwd # Just checking the path\n",
        "\n",
        "\n",
        "import os\n",
        "import shutil\n",
        "import glob\n",
        "\n",
        "\n",
        "num_imgs = 7\n",
        "num_train = 5\n",
        "\n",
        "root_path = './lfw-deepfunneled/*'\n",
        "output_train_dir = './train'\n",
        "output_test_dir = './test'\n",
        "\n",
        "if not os.path.exists(output_train_dir):\n",
        "    os.makedirs(output_train_dir)\n",
        "\n",
        "if not os.path.exists(output_test_dir):\n",
        "    os.makedirs(output_test_dir)\n",
        "\n",
        "root_contents = glob.glob(root_path)\n",
        "\n",
        "separator = os.path.sep\n",
        "\n",
        "all_base_names = []\n",
        "for this_dir in root_contents:\n",
        "    if os.path.isdir(this_dir) and len(glob.glob(this_dir + '/*')) >= num_imgs:\n",
        "      \n",
        "      this_dir_base_name = this_dir.split(separator)[-1]\n",
        "      all_base_names.append(this_dir_base_name)\n",
        "      if not os.path.exists(os.path.join(output_train_dir, this_dir_base_name)):\n",
        "          os.makedirs(os.path.join(output_train_dir, this_dir_base_name))\n",
        "          \n",
        "      if not os.path.exists(os.path.join(output_test_dir, this_dir_base_name)):\n",
        "          os.makedirs(os.path.join(output_test_dir, this_dir_base_name))\n",
        "\n",
        "      this_dir_contents = glob.glob(this_dir + '/*')\n",
        "      for i, this_img in enumerate(this_dir_contents):\n",
        "        # print(i, this_img)\n",
        "        if i <= num_train:\n",
        "          # print('This is training img', i, this_img)\n",
        "          shutil.copy(this_img, os.path.join(output_train_dir, this_dir_base_name))\n",
        "        if i > num_train and i <= num_imgs:\n",
        "          # print('This is test img', i, this_img)\n",
        "          shutil.copy(this_img, os.path.join(output_test_dir, this_dir_base_name))"
      ],
      "metadata": {
        "id": "ZeRJkdMDvmQY"

    },
    {
      "cell_type": "code",
      "source": [
        "import os \n",
        "\n",
        "face_recon_root = '/content/Deep3DFaceRecon_pytorch/'\n",
        "\n",
        "# if not os.path.exists(face_recon_root):\n",

    },
    {
      "cell_type": "code",
      "source": [
        "# if not os.path.exists('/content/Deep3DFaceRecon_pytorch/BFM'):\n",
        "#     os.makedirs('/content/Deep3DFaceRecon_pytorch/BFM')\n",
        "os.chdir('/content/Deep3DFaceRecon_pytorch/BFM')\n",
        "\n",
        "\n",
        "!wget https://www.dropbox.com/s/rzx3ajx8dcvft5m/morph_model.zip\n",
        "!unzip morph_model.zip\n",
        "\n",
        "!wget https://www.dropbox.com/s/isx5qs1emhjza38/Exp_Pca.zip\n",
        "!unzip Exp_Pca.zip"
      ],
      "metadata": {
        "id": "BqXCJxRYiCJF"
      },
      "execution_count": null,
      "outputs": []
    },
    {
      "cell_type": "code",
      "source": [
        "os.makedirs('/content/Deep3DFaceRecon_pytorch/checkpoints/face_3d_recon/')\n",
        "os.chdir('/content/Deep3DFaceRecon_pytorch/checkpoints/face_3d_recon/')\n",
        "!wget https://www.dropbox.com/s/wkp6oaceux7tah6/face_recon_feat0.2_augment-20221005T062920Z-001.zip\n",
        "!unzip face_recon_feat0.2_augment-20221005T062920Z-001.zip\n",
        "\n",
        "import shutil\n",
        "shutil.move('./face_recon_feat0.2_augment/epoch_20.pth', '.')"
      ],
      "metadata": {

      "execution_count": null,
      "outputs": []
    },
    {
      "cell_type": "code",
      "source": [],
      "metadata": {
        "id": "9kJkIUK1cFFr"
      },
      "execution_count": null,
      "outputs": []
    },
    {
      "cell_type": "code",
      "source": [
        "import glob\n",
        "import os\n",
        "import cv2\n",
        "import matplotlib.pyplot as plt\n",
        "\n",
        "def crop_and_copy(dist_dir, in_str):\n",
        "  \n",
        "  if not os.path.exists(dist_dir):\n",
        "    os.makedirs(dist_dir)\n",

      "source": [
        "\n",
        "# os.chdir('/content/Deep3DFaceRecon_pytorch/checkpoints/face_3d_recon/')\n",
        "# !ls \n",
        "# shutil.make_archive('Results', 'zip', './results')"
      ],
      "metadata": {
        "id": "w-e7Yki4RZf8"
      },
      "execution_count": null,
      "outputs": []
    },
    {
      "cell_type": "code",
      "source": [
        "import shutil\n",
        "def render_an_image(img_path):\n",
        "\n",
        "  if not os.path.exists('/content/datasets/test/'):\n",
        "    os.makedirs('/content/datasets/test/')\n",
        "\n",
        "  shutil.copy(img_path, '/content/datasets/test/')\n",
        "\n",
        "  landmarks_to_file('/content/datasets/test/')\n",
        "  \n",
        "  try:\n",
        "    if os.path.exists(glob.glob('./results/epoch*')[0]):\n",
        "      shutil.rmtree(glob.glob('./results/epoch*')[0])\n",
        "  except:\n",
        "    pass\n",
        "  \n",
        "  os.chdir('/content/Deep3DFaceRecon_pytorch/')\n",
        "  os.system('python test.py --name=face_3d_recon --epoch=20 --img_folder=/content/datasets/test/')\n",
        "\n",
        "  if os.path.exists('/content/datasets/test_recon'):\n",
        "    shutil.rmtree('/content/datasets/test_recon')\n",
        "\n",
        "  crop_and_copy('/content/datasets/test_recon/', 'test')\n",
        "\n",
        "  shutil.rmtree('/content/datasets/test/')\n",
        "\n",
        "\n",
        "from deepface import DeepFace\n",
        "def recognize_face(img_path, dataset_path, threshold):\n",
        "  print('==============\\n', img_path, '\\n============')\n",
        "\n",
        "  df_result1 = DeepFace.find(img_path, dataset_path)\n",
        "  # print(df_result1.head)\n",
        "  minimum = df_result1[df_result1.columns[1]][0]\n",
        "  if minimum < threshold:\n",
        "    print('Input image {0} is recognized as {1}'.format(img_path.split(os.path.sep)[-1], df_result1[df_result1.columns[0]][0].split(os.path.sep)[-1]))\n",
        "    return df_result1[df_result1.columns[0]][0], df_result1\n",
        "\n",
        "  else:\n",
        "    print('Subject is not recognized closest matches are listed below:')\n",
        "    print(print(df_result1.head))\n",
        "    return False, df_result1\n",
        "\n",
        "import random\n",
        "all_test_imgs = glob.glob(database_test_root + '/*/*')\n",
        "existing_subject = random.choice(glob.glob(os.path.join(database_test_root, random.choice(select_subjects), '*.*')))\n",
        "random_img = random.choice(all_test_imgs)\n",
        "search_path = '/content/datasets/3d_recon_train'\n",
        "# print(random_img)\n",
        "render_an_image(existing_subject)\n",
        "recognition, df_result1 = recognize_face(glob.glob('/content/datasets/test_recon/*')[0], search_path, 0.25)"
      ],
      "metadata": {
        "id": "BLO3MGD3vQor"
      },
      "execution_count": null,
      "outputs": []
    },
    {
      "cell_type": "code",
      "source": [
        "df_result1"
      ],
      "metadata": {
        "id": "vcclYL8g405f"
      },
      "execution_count": null,
      "outputs": []
    },
    {
      "cell_type": "code",
      "source": [],
      "metadata": {
        "id": "nJ6-amMM4m_d"
      },
      "execution_count": null,
      "outputs": []
    },
    {
      "cell_type": "code",
      "source": [
        "df_result1"
      ],
      "metadata": {
        "id": "C_VCOkCRX1Wa"

      },
      "execution_count": null,
      "outputs": []
    }
  ]
}
